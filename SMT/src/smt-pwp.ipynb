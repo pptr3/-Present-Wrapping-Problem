{
 "cells": [
  {
   "cell_type": "code",
   "execution_count": 2,
   "metadata": {},
   "outputs": [
    {
     "data": {
      "application/javascript": [
       "IPython.notebook.set_autosave_interval(1000)"
      ]
     },
     "metadata": {},
     "output_type": "display_data"
    },
    {
     "name": "stdout",
     "output_type": "stream",
     "text": [
      "Autosaving every 1 seconds\n"
     ]
    }
   ],
   "source": [
    "%autosave 1\n",
    "import os\n",
    "import argparse\n",
    "import numpy as np\n",
    "import matplotlib.pyplot as plt\n",
    "import random\n",
    "from matplotlib.patches import Rectangle\n",
    "from z3 import *"
   ]
  },
  {
   "cell_type": "code",
   "execution_count": 3,
   "metadata": {},
   "outputs": [],
   "source": [
    "instance_name_int = 40\n",
    "instance_name_str = str(instance_name_int) + 'x' + str(instance_name_int) + '.txt'\n",
    "base_dir = 'Instances/'\n",
    "with open(base_dir + instance_name_str) as f:\n",
    "    content = f.readlines()\n",
    "content = [x.strip() for x in content]\n",
    "# remove empty strings\n",
    "content = [x for x in content if x]\n",
    "width = int(content[0].split(' ')[0])\n",
    "height = int(content[0].split(' ')[1])\n",
    "blobs_count = int(content[1])\n",
    "blobs = []\n",
    "for i in range(2, len(content)):\n",
    "    blobs.append([int(content[i].split(' ')[0]), int(content[i].split(' ')[1])])"
   ]
  },
  {
   "cell_type": "code",
   "execution_count": 4,
   "metadata": {},
   "outputs": [],
   "source": [
    "# variables: array composed by pairs of (x, y) coordinates which are the starting point of the \n",
    "# respsective blobs in blobs array. This is a variable so it is not itialized yet, \n",
    "# is what we have to find.\n",
    "xy_coord = [ [ Int(\"o_{}_{}\".format(i+1, j+1)) for j in range(2) ] for i in range(blobs_count) ]"
   ]
  },
  {
   "cell_type": "code",
   "execution_count": 5,
   "metadata": {},
   "outputs": [],
   "source": [
    "# constraint for ensure that the domain of the origins should be [0, width[ and [0, height[\n",
    "in_domain = [ And(xy_coord[i][0] >= 0, xy_coord[i][0] < width, xy_coord[i][1] >= 0, xy_coord[i][1] < height)\n",
    "             for i in range(blobs_count)] "
   ]
  },
  {
   "cell_type": "code",
   "execution_count": 6,
   "metadata": {},
   "outputs": [],
   "source": [
    "# each piece must fit in the paper roll\n",
    "fit_paper = [ And(blobs[i][0] + xy_coord[i][0] <= width, blobs[i][1] + xy_coord[i][1] <= height) \n",
    "            for i in range(blobs_count)] "
   ]
  },
  {
   "cell_type": "code",
   "execution_count": 7,
   "metadata": {},
   "outputs": [],
   "source": [
    "# non-overlap constraint using global constrint\n",
    "over = []\n",
    "for i in range(blobs_count):\n",
    "    for j in range(blobs_count):\n",
    "        if (i<j):\n",
    "            over.append(Or(xy_coord[i][0] + blobs[i][0]  <= xy_coord[j][0], xy_coord[j][0] + blobs[j][0] <= xy_coord[i][0], xy_coord[i][1] + blobs[i][1] <= xy_coord[j][1], xy_coord[j][1] + blobs[j][1] <= xy_coord[i][1]))"
   ]
  },
  {
   "cell_type": "code",
   "execution_count": 8,
   "metadata": {},
   "outputs": [],
   "source": [
    "# implied cumulative constraints\n",
    "imp = []\n",
    "for i in range(width):\n",
    "    for j in range(blobs_count):\n",
    "        implied.append(Sum([If(And(xy_coord[j][0] <= i, i < xy_coord[j][0] + blobs[j][0]), blobs[j][1],0) for j in range(blobs_count)]) <= height)\n",
    "\n",
    "for i in range(height):\n",
    "    for j in range(blobs_count):\n",
    "        implied.append(Sum([If(And(xy_coord[j][1] <= i, i < xy_coord[j][1] + blobs[j][1]), blobs[j][0],0) for j in range(blobs_count)]) <= width)"
   ]
  },
  {
   "cell_type": "markdown",
   "metadata": {},
   "source": [
    "### Simmetry breaking"
   ]
  },
  {
   "cell_type": "code",
   "execution_count": 9,
   "metadata": {},
   "outputs": [],
   "source": [
    "#this constraint forces the first (biggest area object) to be placed into thefirst, bottom-left quadrant of the box\n",
    "simmetry_b = [ And(xy_coord[0][0] <= (width/2 - blobs[0][0]/2), xy_coord[0][1] <= (height/2 - blobs[0][1]/2))] "
   ]
  },
  {
   "cell_type": "code",
   "execution_count": 10,
   "metadata": {},
   "outputs": [],
   "source": [
    "# TODO: syntax error\n",
    "# identical rectangle constraint\n",
    "#identical = [If(And(blobs[i][0] == blobs[i+1][0], blobs[i][1] == blobs[i+1][1]), \n",
    "#   Or(O[i][0] < O[i+1][0], And(O[i][0] == O[i+1][0], O[i][1] < O[i+1][1])),\n",
    "#   False) for i in range(blobs_count)]"
   ]
  },
  {
   "cell_type": "code",
   "execution_count": 11,
   "metadata": {},
   "outputs": [],
   "source": [
    "constraints = domain + fit_paper + overe + simmetry_b"
   ]
  },
  {
   "cell_type": "code",
   "execution_count": 12,
   "metadata": {},
   "outputs": [],
   "source": [
    "'''\n",
    "Solver() creates a general purpose solver.\n",
    "Constraints can be added using the method add.\n",
    "We say the constraints have been asserted in the solver. \n",
    "The method check() solves the asserted constraints. \n",
    "The result is sat (satisfiable) if a solution was found. \n",
    "The result is unsat (unsatisfiable) if no solution exists.\n",
    "We may also say the system of asserted constraints is infeasible. \n",
    "Finally, a solver may fail to solve a system of constraints and unknown is returned.\n",
    "'''\n",
    "s = Solver()\n",
    "s.add(constraints)"
   ]
  },
  {
   "cell_type": "code",
   "execution_count": 14,
   "metadata": {},
   "outputs": [
    {
     "name": "stdout",
     "output_type": "stream",
     "text": [
      "40 40\n",
      "20\n",
      "3 3   0 0 \n",
      "3 4   37 36\n",
      "3 5   37 0 \n",
      "3 6   0 34\n",
      "3 7   37 5 \n",
      "3 8   37 12\n",
      "3 9   0 3 \n",
      "3 10  0 12\n",
      "3 12  0 22\n",
      "3 16  37 20\n",
      "3 40  3 0 \n",
      "4 4   6 14\n",
      "4 14  6 0 \n",
      "4 22  6 18\n",
      "5 3   32 37\n",
      "5 4   32 25\n",
      "5 8   32 29\n",
      "5 12  32 0 \n",
      "5 13  32 12\n",
      "22 40  10 0 \n",
      "\n",
      "(:added-eqs                      94\n",
      " :arith-bound-propagations-cheap 184543\n",
      " :arith-bound-propagations-lp    38498\n",
      " :arith-cheap-eqs                94\n",
      " :arith-conflicts                9724\n",
      " :arith-lower                    126297\n",
      " :arith-make-feasible            76056\n",
      " :arith-max-columns              848\n",
      " :arith-max-rows                 760\n",
      " :arith-propagations             184543\n",
      " :arith-upper                    105132\n",
      " :binary-propagations            31035\n",
      " :conflicts                      11305\n",
      " :decisions                      146159\n",
      " :del-clause                     1146\n",
      " :final-checks                   2\n",
      " :max-memory                     15.75\n",
      " :memory                         7.88\n",
      " :minimized-lits                 5789\n",
      " :mk-bool-var                    1767\n",
      " :mk-clause                      234471\n",
      " :num-allocs                     160141487\n",
      " :num-checks                     2\n",
      " :propagations                   621930\n",
      " :restarts                       84\n",
      " :rlimit-count                   6353754\n",
      " :time                           0.73)\n",
      "\n"
     ]
    }
   ],
   "source": [
    "if s.check() == sat:\n",
    "    m = s.model()\n",
    "\n",
    "    print(\"{} {}\".format(height, width))\n",
    "    print(\"{}\".format(blobs_count))\n",
    "\n",
    "    for i in range(blobs_count):\n",
    "        print(\"{:<1} {:<3} {:<1} {:<2}\".format(blobs[i][0], blobs[i][1], str(m[xy_coord[i][0]]), str(m[xy_coord[i][1]])))\n",
    "    print(\"\\n{}\\n\".format(s.statistics()))\n",
    "else: \n",
    "    print(\"Failed to solve\")"
   ]
  },
  {
   "cell_type": "code",
   "execution_count": null,
   "metadata": {},
   "outputs": [],
   "source": []
  },
  {
   "cell_type": "code",
   "execution_count": null,
   "metadata": {},
   "outputs": [],
   "source": []
  },
  {
   "cell_type": "code",
   "execution_count": null,
   "metadata": {},
   "outputs": [],
   "source": []
  }
 ],
 "metadata": {
  "kernelspec": {
   "display_name": "Python 3",
   "language": "python",
   "name": "python3"
  },
  "language_info": {
   "codemirror_mode": {
    "name": "ipython",
    "version": 3
   },
   "file_extension": ".py",
   "mimetype": "text/x-python",
   "name": "python",
   "nbconvert_exporter": "python",
   "pygments_lexer": "ipython3",
   "version": "3.6.10"
  }
 },
 "nbformat": 4,
 "nbformat_minor": 4
}
