{
 "cells": [
  {
   "cell_type": "code",
   "execution_count": 1,
   "metadata": {},
   "outputs": [
    {
     "data": {
      "application/javascript": [
       "IPython.notebook.set_autosave_interval(1000)"
      ]
     },
     "metadata": {},
     "output_type": "display_data"
    },
    {
     "name": "stdout",
     "output_type": "stream",
     "text": [
      "Autosaving every 1 seconds\n"
     ]
    }
   ],
   "source": [
    "%autosave 1\n",
    "import os\n",
    "import argparse\n",
    "import numpy as np\n",
    "import matplotlib.pyplot as plt\n",
    "import random\n",
    "from matplotlib.patches import Rectangle\n",
    "from z3 import *"
   ]
  },
  {
   "cell_type": "code",
   "execution_count": 374,
   "metadata": {},
   "outputs": [],
   "source": [
    "instance_name_int = 39\n",
    "instance_name_str = str(instance_name_int) + 'x' + str(instance_name_int) + '.txt'\n",
    "base_dir = 'Instances/'\n",
    "with open(base_dir + instance_name_str) as f:\n",
    "    content = f.readlines()\n",
    "content = [x.strip() for x in content]\n",
    "# remove empty strings\n",
    "content = [x for x in content if x]\n",
    "width = int(content[0].split(' ')[0])\n",
    "height = int(content[0].split(' ')[1])\n",
    "blobs_count = int(content[1])\n",
    "blobs = []\n",
    "for i in range(2, len(content)):\n",
    "    blobs.append([int(content[i].split(' ')[0]), int(content[i].split(' ')[1])])"
   ]
  },
  {
   "cell_type": "code",
   "execution_count": 375,
   "metadata": {},
   "outputs": [],
   "source": [
    "# variables: array composed by pairs of (x, y) coordinates which are the starting point of the \n",
    "# respsective blobs in blobs array. This is a variable so it is not itialized yet, \n",
    "# is what we have to find.\n",
    "O = [ [ Int(\"o_{}_{}\".format(i+1, j+1)) for j in range(2) ] for i in range(blobs_count) ]"
   ]
  },
  {
   "cell_type": "code",
   "execution_count": 376,
   "metadata": {},
   "outputs": [],
   "source": [
    "# constraint for ensure that the domain of the origins should be [0, width[ and [0, height[\n",
    "in_domain = [ And(O[i][0] >= 0, O[i][0] < width, O[i][1] >= 0, O[i][1] < height)\n",
    "             for i in range(blobs_count)] "
   ]
  },
  {
   "cell_type": "code",
   "execution_count": 377,
   "metadata": {},
   "outputs": [],
   "source": [
    "# each piece must fit in the paper roll\n",
    "in_paper = [ And(blobs[i][0] + O[i][0] <= width, blobs[i][1] + O[i][1] <= height) \n",
    "            for i in range(blobs_count)] "
   ]
  },
  {
   "cell_type": "code",
   "execution_count": 378,
   "metadata": {},
   "outputs": [],
   "source": [
    "# non-overlap constraint using global constrint\n",
    "no_overlap = []\n",
    "for i in range(blobs_count):\n",
    "    for j in range(blobs_count):\n",
    "        if (i<j):\n",
    "            no_overlap.append(Or(O[i][0] + blobs[i][0]  <= O[j][0], O[j][0] + blobs[j][0] <= O[i][0], O[i][1] + blobs[i][1] <= O[j][1], O[j][1] + blobs[j][1] <= O[i][1]))"
   ]
  },
  {
   "cell_type": "code",
   "execution_count": 379,
   "metadata": {},
   "outputs": [],
   "source": [
    "# implied cumulative constraints\n",
    "implied = []\n",
    "for i in range(width):\n",
    "    for j in range(blobs_count):\n",
    "        implied.append(Sum([If(And(O[j][0] <= i, i < O[j][0] + blobs[j][0]), blobs[j][1],0) for j in range(blobs_count)]) <= height)\n",
    "\n",
    "for i in range(height):\n",
    "    for j in range(blobs_count):\n",
    "        implied.append(Sum([If(And(O[j][1] <= i, i < O[j][1] + blobs[j][1]), blobs[j][0],0) for j in range(blobs_count)]) <= width)"
   ]
  },
  {
   "cell_type": "markdown",
   "metadata": {},
   "source": [
    "### Simmetry breaking"
   ]
  },
  {
   "cell_type": "code",
   "execution_count": 380,
   "metadata": {},
   "outputs": [],
   "source": [
    "#this constraint forces the first (biggest area object) to be placed into thefirst, bottom-left quadrant of the box\n",
    "biggest_obj_bottom_left = [ And(O[0][0] <= (width/2 - blobs[0][0]/2), O[0][1] <= (height/2 - blobs[0][1]/2))] "
   ]
  },
  {
   "cell_type": "code",
   "execution_count": 381,
   "metadata": {},
   "outputs": [],
   "source": [
    "# TODO: syntax error\n",
    "# identical rectangle constraint\n",
    "#identical = [If(And(blobs[i][0] == blobs[i+1][0], blobs[i][1] == blobs[i+1][1]), \n",
    "#   Or(O[i][0] < O[i+1][0], And(O[i][0] == O[i+1][0], O[i][1] < O[i+1][1])),\n",
    "#   False) for i in range(blobs_count)]"
   ]
  },
  {
   "cell_type": "code",
   "execution_count": 382,
   "metadata": {},
   "outputs": [],
   "source": [
    "constraints = in_domain + in_paper + no_overlap + biggest_obj_bottom_left"
   ]
  },
  {
   "cell_type": "code",
   "execution_count": 383,
   "metadata": {},
   "outputs": [],
   "source": [
    "s = Solver()\n",
    "s.add(constraints)"
   ]
  },
  {
   "cell_type": "code",
   "execution_count": 384,
   "metadata": {},
   "outputs": [
    {
     "name": "stdout",
     "output_type": "stream",
     "text": [
      "Failed to solve\n"
     ]
    }
   ],
   "source": [
    "if s.check() == sat:\n",
    "    m = s.model()\n",
    "\n",
    "    print(\"{} {}\".format(height, width))\n",
    "    print(\"{}\".format(blobs_count))\n",
    "\n",
    "    for i in range(blobs_count):\n",
    "        print(\"{:<1} {:<3} {:<1} {:<2}\".format(blobs[i][0], blobs[i][1], str(m[O[i][0]]), str(m[O[i][1]])))\n",
    "    print(\"\\n{}\\n\".format(s.statistics()))\n",
    "else: \n",
    "    print(\"Failed to solve\")"
   ]
  },
  {
   "cell_type": "code",
   "execution_count": null,
   "metadata": {},
   "outputs": [],
   "source": []
  },
  {
   "cell_type": "code",
   "execution_count": null,
   "metadata": {},
   "outputs": [],
   "source": []
  },
  {
   "cell_type": "code",
   "execution_count": null,
   "metadata": {},
   "outputs": [],
   "source": []
  }
 ],
 "metadata": {
  "kernelspec": {
   "display_name": "Python 3",
   "language": "python",
   "name": "python3"
  },
  "language_info": {
   "codemirror_mode": {
    "name": "ipython",
    "version": 3
   },
   "file_extension": ".py",
   "mimetype": "text/x-python",
   "name": "python",
   "nbconvert_exporter": "python",
   "pygments_lexer": "ipython3",
   "version": "3.6.10"
  }
 },
 "nbformat": 4,
 "nbformat_minor": 4
}
