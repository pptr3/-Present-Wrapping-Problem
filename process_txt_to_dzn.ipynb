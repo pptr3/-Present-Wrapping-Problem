{
 "cells": [
  {
   "cell_type": "code",
   "execution_count": 32,
   "metadata": {},
   "outputs": [],
   "source": [
    "import os\n",
    "base_dir = 'Instances/'\n",
    "out_dir = 'Instances_dzn/'\n",
    "for filename in os.listdir(base_dir):\n",
    "    with open(base_dir + filename) as f:\n",
    "        content = f.readlines()\n",
    "    content = [x.strip() for x in content]\n",
    "    # remove empty strings\n",
    "    content = [x for x in content if x]\n",
    "    width = content[0].split(' ')[0]\n",
    "    height = content[0].split(' ')[1]\n",
    "    blobs_count = content[1]\n",
    "    \n",
    "    # create file\n",
    "    file = open(out_dir + str(filename.split('.')[0]) + '.dzn', 'w')\n",
    "    file.write('width = ' + str(width) + ';\\n')\n",
    "    file.write('height = ' + str(height) + ';\\n')\n",
    "    file.write('blobs_count = ' + str(blobs_count) + ';\\n')\n",
    "    file.write('blobs = [')\n",
    "    \n",
    "    \n",
    "    for i in range(2, len(content)):\n",
    "        pair = content[i].split(' ')\n",
    "        file.write('| ' + str(pair[0]) + ', ' + str(pair[1]) + '\\n')\n",
    "    file.write('|];')\n",
    "    file.close()"
   ]
  },
  {
   "cell_type": "code",
   "execution_count": 22,
   "metadata": {},
   "outputs": [
    {
     "data": {
      "text/plain": [
       "12"
      ]
     },
     "execution_count": 22,
     "metadata": {},
     "output_type": "execute_result"
    }
   ],
   "source": [
    "len(content)"
   ]
  },
  {
   "cell_type": "code",
   "execution_count": null,
   "metadata": {},
   "outputs": [],
   "source": []
  }
 ],
 "metadata": {
  "kernelspec": {
   "display_name": "Python 3",
   "language": "python",
   "name": "python3"
  },
  "language_info": {
   "codemirror_mode": {
    "name": "ipython",
    "version": 3
   },
   "file_extension": ".py",
   "mimetype": "text/x-python",
   "name": "python",
   "nbconvert_exporter": "python",
   "pygments_lexer": "ipython3",
   "version": "3.6.10"
  }
 },
 "nbformat": 4,
 "nbformat_minor": 4
}
